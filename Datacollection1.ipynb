{
 "cells": [
  {
   "cell_type": "code",
   "execution_count": 1,
   "metadata": {},
   "outputs": [],
   "source": [
    "import requests\n",
    "from bs4 import BeautifulSoup"
   ]
  },
  {
   "cell_type": "code",
   "execution_count": 2,
   "metadata": {},
   "outputs": [],
   "source": [
    "link=\"https://book.douban.com/chart?subcat=F&icn=index-topchart-fiction\""
   ]
  },
  {
   "cell_type": "code",
   "execution_count": 3,
   "metadata": {},
   "outputs": [],
   "source": [
    "book_list=[]"
   ]
  },
  {
   "cell_type": "code",
   "execution_count": 4,
   "metadata": {},
   "outputs": [],
   "source": [
    "headers={\n",
    "    'user-agent': 'Mozilla/5.0.html (Windows NT 6.1; WOW64; rv:34.0.html) Gecko/20100101 Firefox/34.0.html',\n",
    "    'Host':'book.douban.com'\n",
    "}"
   ]
  },
  {
   "cell_type": "code",
   "execution_count": 5,
   "metadata": {},
   "outputs": [
    {
     "name": "stdout",
     "output_type": "stream",
     "text": [
      "响应状态码： 200\n"
     ]
    }
   ],
   "source": [
    "r=requests.get(link,headers=headers,timeout=10)  # timeout过期时间，防止爬虫长期不响应\n",
    "print(\"响应状态码：\",r.status_code)"
   ]
  },
  {
   "cell_type": "code",
   "execution_count": 6,
   "metadata": {},
   "outputs": [],
   "source": [
    "soup=BeautifulSoup(r.text,'lxml')"
   ]
  },
  {
   "cell_type": "code",
   "execution_count": 13,
   "metadata": {},
   "outputs": [],
   "source": [
    "a_list=soup.find_all('a',class_='fleft')"
   ]
  },
  {
   "cell_type": "code",
   "execution_count": 16,
   "metadata": {},
   "outputs": [
    {
     "data": {
      "text/plain": [
       "[<a class=\"fleft\" href=\"https://book.douban.com/subject/35166649/\">记忆记忆</a>,\n",
       " <a class=\"fleft\" href=\"https://book.douban.com/subject/35229866/\">羊呆住了</a>,\n",
       " <a class=\"fleft\" href=\"https://book.douban.com/subject/35224085/\">100天后会死的鳄鱼君</a>,\n",
       " <a class=\"fleft\" href=\"https://book.douban.com/subject/35166857/\">风声</a>,\n",
       " <a class=\"fleft\" href=\"https://book.douban.com/subject/35250412/\">候场</a>,\n",
       " <a class=\"fleft\" href=\"https://book.douban.com/subject/35166601/\">牛</a>,\n",
       " <a class=\"fleft\" href=\"https://book.douban.com/subject/35030443/\">梦之囚徒：起源</a>,\n",
       " <a class=\"fleft\" href=\"https://book.douban.com/subject/35241110/\">和唯一知道星星为什么会发光的人一起散步</a>,\n",
       " <a class=\"fleft\" href=\"https://book.douban.com/subject/35234778/\">我的妹妹是连环杀手</a>,\n",
       " <a class=\"fleft\" href=\"https://book.douban.com/subject/34978158/\">接近真相的贝弗莉</a>]"
      ]
     },
     "execution_count": 16,
     "metadata": {},
     "output_type": "execute_result"
    }
   ],
   "source": [
    "a_list"
   ]
  },
  {
   "cell_type": "code",
   "execution_count": 24,
   "metadata": {},
   "outputs": [
    {
     "name": "stdout",
     "output_type": "stream",
     "text": [
      "['记忆记忆', '羊呆住了', '100天后会死的鳄鱼君', '风声', '候场', '牛', '梦之囚徒：起源', '和唯一知道星星为什么会发光的人一起散步', '我的妹妹是连环杀手', '接近真相的贝弗莉', '记忆记忆', '羊呆住了', '100天后会死的鳄鱼君', '风声', '候场', '牛', '梦之囚徒：起源', '和唯一知道星星为什么会发光的人一起散步', '我的妹妹是连环杀手', '接近真相的贝弗莉']\n"
     ]
    }
   ],
   "source": [
    "for each in a_list:\n",
    "    book=each.text\n",
    "    book_list.append(book)\n",
    "print(book_list)"
   ]
  },
  {
   "cell_type": "markdown",
   "metadata": {},
   "source": [
    "## 客户端发送请求\n",
    "请求类型（get post）-请求头(我是谁)-请求地址-请求内容\n",
    "\n",
    "## 服务器做出响应\n",
    "响应状态（200代表成功）-响应头-响应体\n",
    "## 针对响应做出解析\n",
    "BeautifulSoup- Selenium 模拟浏览器方法"
   ]
  },
  {
   "cell_type": "code",
   "execution_count": null,
   "metadata": {},
   "outputs": [],
   "source": [
    "# 尝试爬取翻页内容\n",
    "movielist2=[]\n",
    "for i in range(0,10):\n",
    "    link=\"https://movie.douban.com/top250?strat=\"+str(i*25)"
   ]
  }
 ],
 "metadata": {
  "kernelspec": {
   "display_name": "Python 3",
   "language": "python",
   "name": "python3"
  },
  "language_info": {
   "codemirror_mode": {
    "name": "ipython",
    "version": 3
   },
   "file_extension": ".py",
   "mimetype": "text/x-python",
   "name": "python",
   "nbconvert_exporter": "python",
   "pygments_lexer": "ipython3",
   "version": "3.8.3"
  }
 },
 "nbformat": 4,
 "nbformat_minor": 4
}
